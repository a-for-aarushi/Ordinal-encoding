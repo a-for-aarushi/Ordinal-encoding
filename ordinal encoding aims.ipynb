{
 "cells": [
  {
   "cell_type": "code",
   "execution_count": 1,
   "id": "8048f7e5",
   "metadata": {},
   "outputs": [
    {
     "name": "stdout",
     "output_type": "stream",
     "text": [
      "    Name  Age  Age_Encoded\n",
      "0   Zina    1            0\n",
      "1  Zehar   10            1\n",
      "2  Bunty   15            2\n",
      "3  Choco   25            3\n",
      "4   Diya   73            4\n",
      "5  Mehta   18            2\n"
     ]
    }
   ],
   "source": [
    "import pandas as pd\n",
    "import numpy as np\n",
    "data = {\n",
    "    'Name': ['Zina', 'Zehar', 'Bunty', 'Choco', 'Diya', 'Mehta'],\n",
    "    'Age': [1, 10, 15, 25, 73, 18],\n",
    "}\n",
    "df = pd.DataFrame(data)\n",
    "def encode_age(age):\n",
    "    if age <= 2:\n",
    "        return 0\n",
    "    elif age <= 12:\n",
    "        return 1 \n",
    "    elif age <= 20:\n",
    "        return 2  \n",
    "    elif age <= 60:\n",
    "        return 3  \n",
    "    else:\n",
    "        return 4  \n",
    "df['Age_Encoded'] = df['Age'].apply(encode_age)\n",
    "print(df)"
   ]
  },
  {
   "cell_type": "code",
   "execution_count": null,
   "id": "6f756921",
   "metadata": {},
   "outputs": [],
   "source": []
  }
 ],
 "metadata": {
  "kernelspec": {
   "display_name": "Python 3 (ipykernel)",
   "language": "python",
   "name": "python3"
  },
  "language_info": {
   "codemirror_mode": {
    "name": "ipython",
    "version": 3
   },
   "file_extension": ".py",
   "mimetype": "text/x-python",
   "name": "python",
   "nbconvert_exporter": "python",
   "pygments_lexer": "ipython3",
   "version": "3.11.4"
  }
 },
 "nbformat": 4,
 "nbformat_minor": 5
}
